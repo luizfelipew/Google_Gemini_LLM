{
  "nbformat": 4,
  "nbformat_minor": 0,
  "metadata": {
    "colab": {
      "provenance": [],
      "authorship_tag": "ABX9TyMPp977avTB/aJIcQ0xvPJb",
      "include_colab_link": true
    },
    "kernelspec": {
      "name": "python3",
      "display_name": "Python 3"
    },
    "language_info": {
      "name": "python"
    }
  },
  "cells": [
    {
      "cell_type": "markdown",
      "metadata": {
        "id": "view-in-github",
        "colab_type": "text"
      },
      "source": [
        "<a href=\"https://colab.research.google.com/github/luizfelipew/Google_Gemini_LLM/blob/main/first_project_chatbot.ipynb\" target=\"_parent\"><img src=\"https://colab.research.google.com/assets/colab-badge.svg\" alt=\"Open In Colab\"/></a>"
      ]
    },
    {
      "cell_type": "markdown",
      "source": [
        "Instlando o SDK do google"
      ],
      "metadata": {
        "id": "JeV8-GFaDej-"
      }
    },
    {
      "cell_type": "markdown",
      "source": [],
      "metadata": {
        "id": "CRfkc8vkDUuL"
      }
    },
    {
      "cell_type": "code",
      "execution_count": 2,
      "metadata": {
        "id": "agqhizh5Azu_"
      },
      "outputs": [],
      "source": [
        "!pip install -q -U google-generativeai"
      ]
    },
    {
      "cell_type": "code",
      "source": [
        "# Import the Python sdk\n",
        "import google.generativeai as genai\n",
        "from google.colab import userdata\n",
        "api_key = userdata.get('SECRET_KEY')\n",
        "# Used to securely store your API key\n",
        "# from google.colab import userdata\n",
        "\n",
        "# GOOGLE_API_KEY=userdata.get('SECRET_KEY')\n",
        "# GOOGLE_API_KEY=\n",
        "genai.configure(api_key=api_key)"
      ],
      "metadata": {
        "id": "EY3i940tA_G1"
      },
      "execution_count": 36,
      "outputs": []
    },
    {
      "cell_type": "markdown",
      "source": [
        "Listar modelos disponíveis"
      ],
      "metadata": {
        "id": "jg10eXr_Dp6S"
      }
    },
    {
      "cell_type": "code",
      "source": [
        "for m in genai.list_models():\n",
        "  if 'generateContent' in m.supported_generation_methods:\n",
        "    print(m.name)"
      ],
      "metadata": {
        "colab": {
          "base_uri": "https://localhost:8080/",
          "height": 142
        },
        "id": "y4FgQhkSDycq",
        "outputId": "320d453b-be53-45ca-83e7-78325cca8e46"
      },
      "execution_count": 37,
      "outputs": [
        {
          "output_type": "stream",
          "name": "stdout",
          "text": [
            "models/gemini-1.0-pro\n",
            "models/gemini-1.0-pro-001\n",
            "models/gemini-1.0-pro-latest\n",
            "models/gemini-1.0-pro-vision-latest\n",
            "models/gemini-1.5-pro-latest\n",
            "models/gemini-pro\n",
            "models/gemini-pro-vision\n"
          ]
        }
      ]
    },
    {
      "cell_type": "code",
      "source": [
        "# model = genai.GenerativeModel('gemini-pro')"
      ],
      "metadata": {
        "id": "GCcpUHEMB4Qy"
      },
      "execution_count": 4,
      "outputs": []
    },
    {
      "cell_type": "code",
      "source": [
        "# response = model.generate_content(\"Vamos aprender contepudo sobre IA. Me dê sugetões. Em português\")\n",
        "# print(response.text)"
      ],
      "metadata": {
        "colab": {
          "base_uri": "https://localhost:8080/",
          "height": 662
        },
        "id": "AKKlAhsEB_Ou",
        "outputId": "6969a776-74a3-485a-8656-ae835eaf530d"
      },
      "execution_count": 7,
      "outputs": [
        {
          "output_type": "stream",
          "name": "stdout",
          "text": [
            "**Conceitos Fundamentais**\n",
            "\n",
            "* O que é Inteligência Artificial (IA)?\n",
            "* Tipos de IA: Fraca, Média, Forte\n",
            "* Aprendizado de Máquina (ML), Aprendizado Profundo (DL) e Redes Neurais (NNs)\n",
            "* Dados, algoritmos e modelos em IA\n",
            "\n",
            "**Aplicações da IA**\n",
            "\n",
            "* Automação de processos\n",
            "* Análise preditiva\n",
            "* Visão Computacional\n",
            "* Processamento de Linguagem Natural (NLP)\n",
            "* Sistemas de recomendação\n",
            "\n",
            "**Impactos da IA**\n",
            "\n",
            "* Benefícios econômicos\n",
            "* Impactos sociais e éticos\n",
            "* Desafios éticos e regulamentações\n",
            "\n",
            "**Recursos de Aprendizado**\n",
            "\n",
            "* Livros: \"Inteligência Artificial: Uma Abordagem Moderna\" por Stuart Russell e Peter Norvig, \"Aprendizado Profundo\" por Ian Goodfellow, Yoshua Bengio e Aaron Courville\n",
            "* Cursos online: Coursera, edX, Udemy\n",
            "* Comunidades online: Stack Overflow, Reddit\n",
            "* Eventos: conferências, workshops\n",
            "\n",
            "**Glossário**\n",
            "\n",
            "* **Algoritmo:** Um conjunto de instruções que orienta uma tarefa específica.\n",
            "* **Aprendizado Supervisionado:** Treinar um modelo de IA usando dados rotulados.\n",
            "* **Aprendizado não Supervisionado:** Treinar um modelo de IA usando dados não rotulados.\n",
            "* **Rede Neural:** Um modelo que imita a estrutura e função do cérebro humano.\n",
            "* **Tensor:** Um array multidimensional de dados.\n"
          ]
        }
      ]
    },
    {
      "cell_type": "code",
      "source": [
        "generation_config = {\n",
        "    \"candidate_count\": 1,\n",
        "    \"temperature\": 0.5,\n",
        "}"
      ],
      "metadata": {
        "id": "TrZFK4V8CJPk"
      },
      "execution_count": 38,
      "outputs": []
    },
    {
      "cell_type": "code",
      "source": [
        "safety_settings = {\n",
        "    \"HARASSMENT\": \"BLOCK_NONE\",\n",
        "    \"HATE\":\"BLOCK_NONE\",\n",
        "    \"SEXUAL\": \"BLOCK_NONE\",\n",
        "    \"DANGEROUS\": \"BLOCK_NONE\"\n",
        "}"
      ],
      "metadata": {
        "id": "j6T_eiO_JZuX"
      },
      "execution_count": 39,
      "outputs": []
    },
    {
      "cell_type": "markdown",
      "source": [
        "Inicializando o modelo"
      ],
      "metadata": {
        "id": "y2b91Ne7KOid"
      }
    },
    {
      "cell_type": "code",
      "source": [
        "model = genai.GenerativeModel(model_name=\"gemini-1.0-pro\",\n",
        "                              generation_config=generation_config,\n",
        "                              safety_settings=safety_settings)"
      ],
      "metadata": {
        "id": "CNpVq0W1J9ja"
      },
      "execution_count": 40,
      "outputs": []
    },
    {
      "cell_type": "code",
      "source": [
        "response = model.generate_content(\"Vamos aprender contepudo sobre IA. Me dê sugetões. Em português\")\n",
        "print(response.text)"
      ],
      "metadata": {
        "colab": {
          "base_uri": "https://localhost:8080/",
          "height": 662
        },
        "id": "U8xcbBw9Kxle",
        "outputId": "24dc69fc-3bee-40a3-b252-b2d914774c65"
      },
      "execution_count": 41,
      "outputs": [
        {
          "output_type": "stream",
          "name": "stdout",
          "text": [
            "**Introdução à IA**\n",
            "\n",
            "* O que é Inteligência Artificial (IA)?\n",
            "* Tipos de IA: aprendizagem de máquina, aprendizado profundo, aprendizado por reforço\n",
            "* Aplicações da IA em vários setores\n",
            "\n",
            "**Aprendizado de Máquina**\n",
            "\n",
            "* Conceitos básicos de aprendizado de máquina\n",
            "* Algoritmos de aprendizado de máquina supervisionados e não supervisionados\n",
            "* Modelos de aprendizado de máquina: regressão, classificação, agrupamento\n",
            "\n",
            "**Aprendizado Profundo**\n",
            "\n",
            "* Redes neurais e seus tipos\n",
            "* Arquiteturas de aprendizado profundo: CNNs, RNNs, Transformers\n",
            "* Aplicações de aprendizado profundo: reconhecimento de imagem, processamento de linguagem natural\n",
            "\n",
            "**Aprendizado por Reforço**\n",
            "\n",
            "* Conceitos básicos de aprendizado por reforço\n",
            "* Algoritmos de aprendizado por reforço: Q-learning, SARSA\n",
            "* Aplicações de aprendizado por reforço: robótica, jogos\n",
            "\n",
            "**Ética e Implicações da IA**\n",
            "\n",
            "* Implicações éticas da IA: viés, privacidade, desemprego\n",
            "* Regulamentações e diretrizes éticas para o uso da IA\n",
            "* O futuro da IA e seu impacto na sociedade\n",
            "\n",
            "**Recursos Adicionais**\n",
            "\n",
            "* [Curso de IA da Universidade de Stanford](https://online.stanford.edu/courses/soe-ycsgen1-artificial-intelligence)\n",
            "* [Canal do YouTube da DeepMind](https://www.youtube.com/channel/UC6f-633m4J3z2-hN-q_48kQ)\n",
            "* [Livro \"Inteligência Artificial: Uma Abordagem Moderna\"](https://www.amazon.com.br/Intelig%C3%AAncia-Artificial-Abordagem-Stuart-Russell/dp/8588365052)\n"
          ]
        }
      ]
    },
    {
      "cell_type": "code",
      "source": [
        "chat = model.start_chat(history=[])"
      ],
      "metadata": {
        "id": "WKd1DX_vLHNx"
      },
      "execution_count": 42,
      "outputs": []
    },
    {
      "cell_type": "code",
      "source": [
        "prompt = input(\"Esperando prompt: \")\n",
        "\n",
        "while prompt != \"fim\":\n",
        "  response = chat.send_message(prompt)\n",
        "  print(\"Resposta: \", response.text, \"\\n\")\n",
        "  prompt = input(\"Esperando prompt: \")"
      ],
      "metadata": {
        "colab": {
          "base_uri": "https://localhost:8080/",
          "height": 803
        },
        "id": "-kkwy68zMjjl",
        "outputId": "dace8032-f4ab-46fa-ec8b-c37d98b9e937"
      },
      "execution_count": 43,
      "outputs": [
        {
          "name": "stdout",
          "output_type": "stream",
          "text": [
            "Esperando prompt: teste\n",
            "Resposta:  **Teste de Conhecimento**\n",
            "\n",
            "**Instruções:** Responda às seguintes perguntas da melhor forma possível.\n",
            "\n",
            "**Pergunta 1:** Qual é a capital da França?\n",
            "* (A) Londres\n",
            "* (B) Paris\n",
            "* (C) Roma\n",
            "* (D) Berlim\n",
            "\n",
            "**Pergunta 2:** Quem pintou a obra-prima \"Mona Lisa\"?\n",
            "* (A) Pablo Picasso\n",
            "* (B) Leonardo da Vinci\n",
            "* (C) Vincent van Gogh\n",
            "* (D) Michelangelo\n",
            "\n",
            "**Pergunta 3:** Qual é o maior oceano do mundo?\n",
            "* (A) Oceano Atlântico\n",
            "* (B) Oceano Pacífico\n",
            "* (C) Oceano Índico\n",
            "* (D) Oceano Ártico\n",
            "\n",
            "**Pergunta 4:** Qual é o nome do primeiro-ministro do Reino Unido?\n",
            "* (A) Boris Johnson\n",
            "* (B) Emmanuel Macron\n",
            "* (C) Joe Biden\n",
            "* (D) Xi Jinping\n",
            "\n",
            "**Pergunta 5:** Qual é o símbolo químico do ouro?\n",
            "* (A) Ag\n",
            "* (B) Au\n",
            "* (C) Fe\n",
            "* (D) Cu\n",
            "\n",
            "**Chave de Respostas:**\n",
            "\n",
            "1. B\n",
            "2. B\n",
            "3. B\n",
            "4. A\n",
            "5. B \n",
            "\n",
            "Esperando prompt: fim\n"
          ]
        }
      ]
    },
    {
      "cell_type": "code",
      "source": [
        "chat.history"
      ],
      "metadata": {
        "colab": {
          "base_uri": "https://localhost:8080/"
        },
        "id": "P_z0_L4WMvMC",
        "outputId": "3e70063d-1942-41e6-f758-e4910d7f99bf"
      },
      "execution_count": 35,
      "outputs": [
        {
          "output_type": "execute_result",
          "data": {
            "text/plain": [
              "[parts {\n",
              "   text: \"Qual a capital do jap\\303\\243o?\"\n",
              " }\n",
              " role: \"user\",\n",
              " parts {\n",
              "   text: \"T\\303\\263quio\"\n",
              " }\n",
              " role: \"model\",\n",
              " parts {\n",
              "   text: \"Qual \\303\\251 a comid atipica desse pais?\"\n",
              " }\n",
              " role: \"user\",\n",
              " parts {\n",
              "   text: \"Natto (soja fermentada)\"\n",
              " }\n",
              " role: \"model\",\n",
              " parts {\n",
              "   text: \"Me primo nasceunessa cidade. Qual \\303\\251 a nacionalidade dele?\"\n",
              " }\n",
              " role: \"user\",\n",
              " parts {\n",
              "   text: \"Japonesa\"\n",
              " }\n",
              " role: \"model\",\n",
              " parts {\n",
              "   text: \"E qual \\303\\251 a popula\\303\\247\\303\\243o dessa cidade\"\n",
              " }\n",
              " role: \"user\",\n",
              " parts {\n",
              "   text: \"13.960.302 (2023)\"\n",
              " }\n",
              " role: \"model\"]"
            ]
          },
          "metadata": {},
          "execution_count": 35
        }
      ]
    },
    {
      "cell_type": "code",
      "source": [],
      "metadata": {
        "id": "jN-f5i6DOdKx"
      },
      "execution_count": null,
      "outputs": []
    }
  ]
}